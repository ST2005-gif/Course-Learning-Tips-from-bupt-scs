{
 "cells": [
  {
   "cell_type": "code",
   "execution_count": 1,
   "metadata": {},
   "outputs": [
    {
     "name": "stdout",
     "output_type": "stream",
     "text": [
      "A= [[1 -1 2]\n",
      " [3 -3 6]\n",
      " [2 -2 4]]\n",
      "J= [[0 0 0]\n",
      " [0 0 0]\n",
      " [0 0 2]]\n",
      "A= [[-1 1 0]\n",
      " [-4 3 0]\n",
      " [1 0 2]]\n",
      "J= [[1 1 0]\n",
      " [0 1 0]\n",
      " [0 0 2]]\n",
      "A= [[1 -1 2]\n",
      " [3 -3 6]\n",
      " [2 -2 4]]\n",
      "P= [[1 -2 1/2]\n",
      " [1 0 3/2]\n",
      " [0 1 1]]\n",
      "A= [[1 2 3 4]\n",
      " [0 1 2 3]\n",
      " [0 0 1 2]\n",
      " [0 0 0 1]]\n",
      "P= [[8 12 4 0]\n",
      " [0 4 3 0]\n",
      " [0 0 2 0]\n",
      " [0 0 0 1]]\n"
     ]
    }
   ],
   "source": [
    "#2023210896-王书翰-2.1.2\n",
    "import numpy as np\n",
    "from sympy import Matrix\n",
    "def caculateJ(A):\n",
    "    A=Matrix(A)\n",
    "    P,J=A.jordan_form()\n",
    "    A=np.array(A)\n",
    "    P=np.array(P)\n",
    "    J=np.array(J)\n",
    "    print(\"A=\",A)\n",
    "    print(\"J=\",J)\n",
    "def caculateP(A):\n",
    "    A=Matrix(A)\n",
    "    P,J=A.jordan_form()\n",
    "    A=np.array(A)\n",
    "    P=np.array(P)\n",
    "    J=np.array(J)\n",
    "    print(\"A=\",A)\n",
    "    print(\"P=\",P)\n",
    "A=np.array([[1,-1,2],[3,-3,6],[2,-2,4]])\n",
    "caculateJ(A)\n",
    "A=np.array([[-1,1,0],[-4,3,0],[1,0,2]])\n",
    "caculateJ(A)\n",
    "A=np.array([[1,-1,2],[3,-3,6],[2,-2,4]])\n",
    "caculateP(A)\n",
    "A=np.array([[1,2,3,4],[0,1,2,3],[0,0,1,2],[0,0,0,1]])\n",
    "caculateP(A)"
   ]
  },
  {
   "cell_type": "code",
   "execution_count": null,
   "metadata": {},
   "outputs": [
    {
     "name": "stdout",
     "output_type": "stream",
     "text": [
      "[[108 -52]\n",
      " [-56 -81]]\n"
     ]
    }
   ],
   "source": [
    "#2023210896-王书翰-2.1.3\n",
    "import numpy as np\n",
    "def trans_T(X):\n",
    "    return X+2*X.T\n",
    "def times(X,k):\n",
    "    for i in range(k):\n",
    "        X=trans_T(X)\n",
    "    return X\n",
    "X=np.array([[4,-4],[0,-3]])\n",
    "print(times(X,3))"
   ]
  },
  {
   "cell_type": "code",
   "execution_count": 16,
   "metadata": {},
   "outputs": [
    {
     "name": "stdout",
     "output_type": "stream",
     "text": [
      "矩阵 A: [[ 2  0  0]\n",
      " [ 1  1  1]\n",
      " [ 1 -1  3]]\n",
      "f(A): [[ 7.3890561  0.         0.       ]\n",
      " [ 7.3890561  0.         7.3890561]\n",
      " [ 7.3890561 -7.3890561 14.7781122]]\n"
     ]
    }
   ],
   "source": [
    "#2023210896-王书翰-3.1.2\n",
    "import numpy as np\n",
    "A = np.array([[2,0,0], [1,1,1],[1,-1,3]])\n",
    "a1,a2,a3=eigenvalues = np.linalg.eigvals(A)\n",
    "B=np.array([[1,a3],[0,1]])\n",
    "C=np.array([np.exp(a3),np.exp(a3)])\n",
    "x,y=np.linalg.solve(B,C)\n",
    "fA=x*np.eye(3)+y*A\n",
    "print(\"矩阵 A:\",A)\n",
    "print(\"f(A):\",fA)"
   ]
  },
  {
   "cell_type": "code",
   "execution_count": null,
   "metadata": {},
   "outputs": [
    {
     "name": "stdout",
     "output_type": "stream",
     "text": [
      "e^A:\n",
      "[[ 5.30122837  5.16589309  0.        ]\n",
      " [-2.58294655 -2.44761126  0.        ]\n",
      " [-2.58294655 -5.16589309  2.71828183]]\n",
      "cosA:\n",
      "[[ 1.49675145  1.91289828  0.        ]\n",
      " [-0.95644914 -1.37259598  0.        ]\n",
      " [-0.95644914 -1.91289828  0.54030231]]\n"
     ]
    }
   ],
   "source": [
    "#2023210896-王书翰-3.2.2\n",
    "import numpy as np\n",
    "A = np.array([[4,6,0], [-3,-5,0],[-3,-6,1]])\n",
    "eigenvalues, eigenvectors = np.linalg.eig(A)\n",
    "Lambda = np.diag(eigenvalues)\n",
    "V_inv = np.linalg.inv(eigenvectors)\n",
    "e_Lambda = np.diag(np.exp(eigenvalues))\n",
    "e_cost = np.diag(np.cos(eigenvalues))\n",
    "e_A = eigenvectors @ e_Lambda @ V_inv\n",
    "cosA= eigenvectors @ e_cost @ V_inv\n",
    "print(\"e^A:\")\n",
    "print(e_A)\n",
    "print(\"cosA:\")\n",
    "print(cosA)"
   ]
  },
  {
   "cell_type": "code",
   "execution_count": 46,
   "metadata": {},
   "outputs": [
    {
     "name": "stdout",
     "output_type": "stream",
     "text": [
      "[[-8.97529585e+09  0.00000000e+00  0.00000000e+00  0.00000000e+00]\n",
      " [ 0.00000000e+00  8.97529585e+09  0.00000000e+00  0.00000000e+00]\n",
      " [ 0.00000000e+00  0.00000000e+00  0.00000000e+00  1.00000000e+00]\n",
      " [ 0.00000000e+00  0.00000000e+00  0.00000000e+00  0.00000000e+00]]\n"
     ]
    }
   ],
   "source": [
    "#2023210896-王书翰-3.3.2\n",
    "import numpy as np\n",
    "def sine(A,n):\n",
    "    siA=np.zeros_like(A,dtype=float)\n",
    "    tempA=A\n",
    "    cofficient=1\n",
    "    for i in range(n):\n",
    "        siA=siA+tempA*cofficient\n",
    "        tempA=np.dot(tempA,A)\n",
    "        tempA=np.dot(tempA,A)\n",
    "        cofficient=cofficient*(-1)/((i+1)*2)*((i+1)*2+1)\n",
    "    return siA\n",
    "\n",
    "A = np.array([[3.1415926,0,0,0], [0,-3.1415926,0,0], [0,0,0,1], [0,0,0,0]])\n",
    "print(sine(A,10))"
   ]
  },
  {
   "cell_type": "code",
   "execution_count": 67,
   "metadata": {},
   "outputs": [
    {
     "name": "stdout",
     "output_type": "stream",
     "text": [
      "[[ 0.          0.          0.          0.        ]\n",
      " [ 1.          0.          0.          0.        ]\n",
      " [-0.5         1.          0.          0.        ]\n",
      " [ 0.33333333 -0.5         1.          0.        ]]\n",
      "[[0.69314718 0.5        0.         0.        ]\n",
      " [0.         0.69314718 0.         0.        ]\n",
      " [0.         0.         0.         1.        ]\n",
      " [0.         0.         0.         0.        ]]\n"
     ]
    }
   ],
   "source": [
    "#2023210896-王书翰-3.4.2\n",
    "import numpy as np\n",
    "from scipy.linalg import schur, logm\n",
    "def caculate_ln(A):\n",
    "    J,P=schur(A)\n",
    "    lnJ = logm(J)\n",
    "    P_inv = np.linalg.inv(P)\n",
    "    result = P@lnJ@P_inv\n",
    "    result_np = np.array(result, dtype=np.float64)\n",
    "    print(result_np)\n",
    "A=np.array([[1,0,0,0],[1,1,0,0],[0,1,1,0],[0,0,1,1]])\n",
    "caculate_ln(A)\n",
    "A=np.array([[2,1,0,0],[0,2,0,0],[0,0,1,1],[0,0,0,1]])\n",
    "caculate_ln(A)"
   ]
  },
  {
   "cell_type": "code",
   "execution_count": 93,
   "metadata": {},
   "outputs": [
    {
     "name": "stdout",
     "output_type": "stream",
     "text": [
      "L: [[1.  0.  0. ]\n",
      " [0.5 1.  0. ]\n",
      " [1.  2.  1. ]]\n",
      "D: [[2.  0.  0. ]\n",
      " [0.  2.5 0. ]\n",
      " [0.  0.  0. ]]\n",
      "U: [[ 1.  -0.5  1.5]\n",
      " [ 0.   1.  -0.2]\n",
      " [ 0.   0.   1. ]]\n",
      "[[ 2. -1.  3.]\n",
      " [ 1.  2.  1.]\n",
      " [ 2.  4.  2.]]\n"
     ]
    }
   ],
   "source": [
    "#2023210896-王书翰-4.1.2\n",
    "import numpy as np\n",
    "from scipy.linalg import lu\n",
    "def ldu_decomposition(A):\n",
    "    n = A.shape[0]\n",
    "    L = np.eye(n, dtype=float)\n",
    "    U = np.copy(A).astype(float)\n",
    "    D=np.zeros(n)\n",
    "    for i in range(n):\n",
    "        pivot =D[i]= U[i, i]\n",
    "        if(pivot == 0):\n",
    "            break\n",
    "        U[i, i:] /= pivot\n",
    "        for j in range(i + 1, n):\n",
    "            factor = U[j, i]\n",
    "            U[j, i:] -= factor * U[i, i:]\n",
    "            L[j, i] = A[j, i] / pivot\n",
    "        A=np.linalg.inv(L)@A\n",
    "    U = np.triu(U, k=1) + np.eye(n)\n",
    "    D=np.diag(D)\n",
    "    print(\"L:\", L)\n",
    "    print(\"D:\", D)\n",
    "    print(\"U:\", U)\n",
    "    print(L@D@U)\n",
    "A = np.array([[2,-1,3], [1,2,1], [2,4,2]])\n",
    "ldu_decomposition(A)"
   ]
  },
  {
   "cell_type": "code",
   "execution_count": null,
   "metadata": {},
   "outputs": [
    {
     "name": "stdout",
     "output_type": "stream",
     "text": [
      "Q: [[ 4.08248290e-01  5.77350269e-01  7.07106781e-01]\n",
      " [ 8.16496581e-01 -5.77350269e-01 -1.25607397e-15]\n",
      " [ 4.08248290e-01  5.77350269e-01 -7.07106781e-01]]\n",
      "R: [[2.44948974 2.44948974 2.85773803]\n",
      " [0.         1.73205081 0.57735027]\n",
      " [0.         0.         0.70710678]]\n",
      "QR: [[1. 2. 2.]\n",
      " [2. 1. 2.]\n",
      " [1. 2. 1.]]\n"
     ]
    }
   ],
   "source": [
    "#2023210896-王书翰-4.2.2\n",
    "import numpy as np\n",
    "def schmidt(vectors):\n",
    "    vectors = [v.astype(np.float64) for v in vectors]\n",
    "    orthonormal_vectors = []\n",
    "    orthogonal_vectors=[]\n",
    "    k=[]\n",
    "    for vector in vectors:\n",
    "        projection = np.zeros_like(vector)\n",
    "        for v in orthonormal_vectors:\n",
    "            projection = np.dot(v, vector) *v+projection\n",
    "        orthogonal_vector = vector - projection\n",
    "        a=orthogonal_vector\n",
    "        orthogonal_vectors.append(a)\n",
    "        k.append(np.linalg.norm(orthogonal_vector))\n",
    "        orthonormal_vector = orthogonal_vector/np.linalg.norm(orthogonal_vector)\n",
    "        orthonormal_vectors.append(orthonormal_vector)\n",
    "    Q=np.column_stack(orthonormal_vectors)\n",
    "    R=np.eye(A.shape[0],dtype='float')\n",
    "    C=np.zeros_like(A).astype('float')\n",
    "    for i in range (A.shape[0]):\n",
    "        C[i,i]=k[i]\n",
    "        for j in range(i):\n",
    "            R[j,i]=np.dot(vectors[i],orthogonal_vectors[j])/np.dot(orthogonal_vectors[j],orthogonal_vectors[j])\n",
    "    R=C@R\n",
    "    print(\"Q:\",Q)\n",
    "    print(\"R:\",R)\n",
    "    print(\"QR:\",Q@R)\n",
    "A=np.array([[1,2,2],[2,1,2],[1,2,1]])\n",
    "vectors = A.T\n",
    "schmidt(vectors)"
   ]
  },
  {
   "cell_type": "code",
   "execution_count": 4,
   "metadata": {},
   "outputs": [
    {
     "name": "stdout",
     "output_type": "stream",
     "text": [
      "B矩阵: [[-1. -0.]\n",
      " [ 1.  2.]\n",
      " [ 2.  2.]]\n",
      "P-1矩阵: [[ 1.  -0.  -1.  -2. ]\n",
      " [ 0.   1.   0.   1.5]]\n",
      "BP-1矩阵: [[-1.  0.  1.  2.]\n",
      " [ 1.  2. -1.  1.]\n",
      " [ 2.  2. -2. -1.]]\n"
     ]
    }
   ],
   "source": [
    "#2023210896-王书翰-4.3.2\n",
    "import numpy as np\n",
    "def full_rank_decomposition(A):\n",
    "    m, n = A.shape\n",
    "    augmented_matrix = np.hstack((A, np.eye(m)))\n",
    "    row_echelon_form = augmented_matrix.copy()\n",
    "    for i in range(min(m, n)):\n",
    "        if row_echelon_form[i, i] == 0:\n",
    "            for k in range(i + 1, m):\n",
    "                if row_echelon_form[k, i] != 0:\n",
    "                    row_echelon_form[[i, k]] = row_echelon_form[[k, i]]\n",
    "                    break\n",
    "        pivot = row_echelon_form[i, i]\n",
    "        if pivot != 0:\n",
    "            row_echelon_form[i] /= pivot\n",
    "        for k in range(i + 1, m):\n",
    "            factor = row_echelon_form[k, i]\n",
    "            row_echelon_form[k] -= factor * row_echelon_form[i]\n",
    "    P = row_echelon_form[:, n:]\n",
    "    P_inv = np.linalg.inv(P)\n",
    "    rank = np.linalg.matrix_rank(A)\n",
    "    rank=rank-1\n",
    "    F = P_inv[:, :rank]\n",
    "    G = row_echelon_form[:rank, :n]\n",
    "    return F, G\n",
    "A = np.array([[-1,0,1,2],[1,2,-1,1],[2,2,-2,1]])\n",
    "B, P = full_rank_decomposition(A)\n",
    "print(\"B矩阵:\",B)\n",
    "print(\"P-1矩阵:\",P)\n",
    "print(\"BP-1矩阵:\",B@P)"
   ]
  },
  {
   "cell_type": "code",
   "execution_count": 34,
   "metadata": {},
   "outputs": [
    {
     "name": "stdout",
     "output_type": "stream",
     "text": [
      "U 矩阵:\n",
      "[[ 0.70710678 -0.70710678  0.        ]\n",
      " [ 0.70710678  0.70710678  0.        ]\n",
      " [ 0.          0.          1.        ]]\n",
      "\n",
      "Σ 矩阵:\n",
      "[[1.73205081 0.         0.        ]\n",
      " [0.         1.         0.        ]\n",
      " [0.         0.         0.        ]]\n",
      "\n",
      "V^T 矩阵:\n",
      "[[ 4.08248290e-01  4.08248290e-01  8.16496581e-01]\n",
      " [-7.07106781e-01  7.07106781e-01  2.22044605e-16]\n",
      " [-5.77350269e-01 -5.77350269e-01  5.77350269e-01]]\n",
      "\n",
      "重构矩阵 A:\n",
      "[[ 1.00000000e+00 -6.83580866e-17  1.00000000e+00]\n",
      " [-6.83580866e-17  1.00000000e+00  1.00000000e+00]\n",
      " [ 0.00000000e+00  0.00000000e+00  0.00000000e+00]]\n"
     ]
    }
   ],
   "source": [
    "#2023210896-王书翰-4.4.2\n",
    "import numpy as np\n",
    "A=np.array([[1,0,1],[0,1,1],[0,0,0]])\n",
    "U, S, VT = np.linalg.svd(A)\n",
    "Sigma = np.zeros((A.shape[0], A.shape[1]))# 构造对角矩阵 Σ\n",
    "Sigma[:A.shape[0], :A.shape[0]] = np.diag(S)\n",
    "print(\"U 矩阵:\")\n",
    "print(U)\n",
    "print(\"\\nΣ 矩阵:\")\n",
    "print(Sigma)\n",
    "print(\"\\nV^T 矩阵:\")\n",
    "print(VT)\n",
    "print(\"\\n重构矩阵 A:\")\n",
    "print(U @ Sigma @ VT)"
   ]
  },
  {
   "cell_type": "code",
   "execution_count": 23,
   "metadata": {},
   "outputs": [
    {
     "name": "stdout",
     "output_type": "stream",
     "text": [
      "F矩阵: [[-1. -0.]\n",
      " [ 1.  2.]\n",
      " [ 0. -2.]\n",
      " [ 3.  8.]]\n",
      "G矩阵: [[ 1. -2. -1.]\n",
      " [ 0.  1.  1.]]\n",
      "F的伪逆矩阵: [[-0.62068966  0.17241379  0.44827586  0.06896552]\n",
      " [ 0.22413793 -0.03448276 -0.18965517  0.0862069 ]]\n",
      "G的伪逆矩阵: [[ 0.66666667  1.        ]\n",
      " [-0.33333333  0.        ]\n",
      " [ 0.33333333  1.        ]]\n",
      "计算A的伪逆矩阵: [[-0.18965517  0.08045977  0.1091954   0.13218391]\n",
      " [ 0.20689655 -0.05747126 -0.14942529 -0.02298851]\n",
      " [ 0.01724138  0.02298851 -0.04022989  0.1091954 ]]\n"
     ]
    }
   ],
   "source": [
    "#2023210896-王书翰-4.5.4.1\n",
    "import numpy as np\n",
    "def full_rank_decomposition(A):\n",
    "    m, n = A.shape\n",
    "    augmented_matrix = np.hstack((A, np.eye(m)))\n",
    "    row_echelon_form = augmented_matrix.copy()\n",
    "    for i in range(min(m, n)):\n",
    "        if row_echelon_form[i, i] == 0:\n",
    "            for k in range(i + 1, m):\n",
    "                if row_echelon_form[k, i] != 0:\n",
    "                    row_echelon_form[[i, k]] = row_echelon_form[[k, i]]\n",
    "                    break\n",
    "        pivot = row_echelon_form[i, i]\n",
    "        if pivot != 0:\n",
    "            row_echelon_form[i] /= pivot\n",
    "        for k in range(i + 1, m):\n",
    "            factor = row_echelon_form[k, i]\n",
    "            row_echelon_form[k] -= factor * row_echelon_form[i]\n",
    "    P = row_echelon_form[:, n:]\n",
    "    P_inv = np.linalg.inv(P)\n",
    "    rank = np.linalg.matrix_rank(A)\n",
    "    F = P_inv[:, :rank]\n",
    "    G = row_echelon_form[:rank, :n]\n",
    "    return F, G\n",
    "\n",
    "A = np.array([[-1,2,1],[1,0,1],[0,-2,-2],[3,2,5]])\n",
    "F, G = full_rank_decomposition(A)\n",
    "print(\"F矩阵:\",F)\n",
    "print(\"G矩阵:\",G)\n",
    "F_inv=np.linalg.inv(F.T@F)@F.T\n",
    "G_inv=G.T@np.linalg.inv(G@G.T)\n",
    "print(\"F的伪逆矩阵:\",F_inv)\n",
    "print(\"G的伪逆矩阵:\",G_inv)\n",
    "print(\"计算A的伪逆矩阵:\",G_inv@F_inv)"
   ]
  },
  {
   "cell_type": "code",
   "execution_count": 25,
   "metadata": {},
   "outputs": [
    {
     "name": "stdout",
     "output_type": "stream",
     "text": [
      "A的广义逆矩阵为 [[-0.1  0.2]\n",
      " [ 0.   0. ]\n",
      " [ 0.1 -0.2]]\n"
     ]
    }
   ],
   "source": [
    "#2023210896-王书翰-4.5.4.2\n",
    "import numpy as np\n",
    "A = np.array([[-1, 0, 1], [2, 0, -2]])\n",
    "U, S, VT = np.linalg.svd(A)\n",
    "Sigma = np.zeros((A.shape[0], A.shape[1]))# 构造对角矩阵 Σ\n",
    "Sigma[:A.shape[0], :A.shape[0]] = np.diag(S)\n",
    "D = np.zeros((VT.shape[0], U.shape[0]))\n",
    "for i in range(len(S)):\n",
    "    if S[i] != 0:\n",
    "        D[i, i] = 1 / S[i]\n",
    "print(\"A的广义逆矩阵为\",VT.T@D@U.T)"
   ]
  }
 ],
 "metadata": {
  "kernelspec": {
   "display_name": "Python 3",
   "language": "python",
   "name": "python3"
  },
  "language_info": {
   "codemirror_mode": {
    "name": "ipython",
    "version": 3
   },
   "file_extension": ".py",
   "mimetype": "text/x-python",
   "name": "python",
   "nbconvert_exporter": "python",
   "pygments_lexer": "ipython3",
   "version": "3.8.0"
  }
 },
 "nbformat": 4,
 "nbformat_minor": 2
}
